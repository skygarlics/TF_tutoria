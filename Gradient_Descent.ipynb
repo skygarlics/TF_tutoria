{
 "cells": [
  {
   "cell_type": "code",
   "execution_count": 6,
   "metadata": {},
   "outputs": [],
   "source": [
    "%matplotlib inline\n",
    "import tensorflow as tf\n",
    "import numpy as np\n",
    "import matplotlib as mat"
   ]
  },
  {
   "cell_type": "code",
   "execution_count": 21,
   "metadata": {},
   "outputs": [
    {
     "name": "stdout",
     "output_type": "stream",
     "text": [
      "  0 [[ 0.40155476 -0.02094549]] [ 0.54506981]\n",
      " 20 [[ 0.12808037  0.12694219]] [ 0.32107791]\n",
      " 40 [[ 0.10241251  0.1820904 ]] [ 0.30769446]\n",
      " 60 [[ 0.09947169  0.19528998]] [ 0.30268091]\n",
      " 80 [[ 0.09956986  0.1986782 ]] [ 0.30091172]\n",
      "100 [[ 0.09980868  0.19960888]] [ 0.30030599]\n",
      "120 [[ 0.09992736  0.19987971]] [ 0.30010191]\n",
      "140 [[ 0.0999742   0.19996202]] [ 0.30003381]\n",
      "160 [[ 0.09999113  0.19998778]] [ 0.30001119]\n",
      "180 [[ 0.09999701  0.19999602]] [ 0.30000371]\n",
      "200 [[ 0.099999    0.19999869]] [ 0.30000123]\n"
     ]
    }
   ],
   "source": [
    "# constants\n",
    "L_RATE = 0.5\n",
    "\n",
    "# dataset\n",
    "# W = [0.1, 0.2], b = 0.3\n",
    "x_data = np.float32(np.random.rand(2,100))\n",
    "y_data = np.dot([0.100, 0.200], x_data) + 0.300\n",
    "\n",
    "# Weight and Bias\n",
    "b = tf.Variable(tf.zeros([1]))\n",
    "W = tf.Variable(tf.random_uniform([1,2], -1.0, 1.0))\n",
    "\n",
    "# model\n",
    "y = tf.matmul(W, x_data) + b\n",
    "\n",
    "# loss function\n",
    "loss = tf.reduce_mean(tf.square(y - y_data))\n",
    "optimizer = tf.train.GradientDescentOptimizer(L_RATE)\n",
    "train = optimizer.minimize(loss)\n",
    "\n",
    "# session setting\n",
    "init = tf.global_variables_initializer()\n",
    "\n",
    "sess = tf.Session()\n",
    "sess.run(init)\n",
    "\n",
    "for step in xrange(0, 201):\n",
    "    sess.run(train)\n",
    "    if step % 20 == 0:\n",
    "        \n",
    "        print \"{:3} {:20} {}\".format(step, sess.run(W), sess.run(b))"
   ]
  },
  {
   "cell_type": "code",
   "execution_count": null,
   "metadata": {},
   "outputs": [],
   "source": []
  }
 ],
 "metadata": {
  "kernelspec": {
   "display_name": "Python 2",
   "language": "python",
   "name": "python2"
  },
  "language_info": {
   "codemirror_mode": {
    "name": "ipython",
    "version": 2
   },
   "file_extension": ".py",
   "mimetype": "text/x-python",
   "name": "python",
   "nbconvert_exporter": "python",
   "pygments_lexer": "ipython2",
   "version": "2.7.6"
  }
 },
 "nbformat": 4,
 "nbformat_minor": 2
}
